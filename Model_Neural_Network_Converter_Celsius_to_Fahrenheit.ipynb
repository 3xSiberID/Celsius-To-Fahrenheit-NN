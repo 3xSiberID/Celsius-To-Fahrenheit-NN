{
  "nbformat": 4,
  "nbformat_minor": 0,
  "metadata": {
    "colab": {
      "provenance": [],
      "gpuType": "T4"
    },
    "kernelspec": {
      "name": "python3",
      "display_name": "Python 3"
    },
    "language_info": {
      "name": "python"
    },
    "accelerator": "GPU"
  },
  "cells": [
    {
      "cell_type": "markdown",
      "source": [
        "**1.Import Library**"
      ],
      "metadata": {
        "id": "JJEt9456DBu7"
      }
    },
    {
      "cell_type": "code",
      "source": [
        "import numpy as np\n",
        "import tensorflow as tf\n",
        "from tensorflow import keras\n",
        "import matplotlib.pyplot as plt\n"
      ],
      "metadata": {
        "id": "LKkr8G-dC-jL"
      },
      "execution_count": 21,
      "outputs": []
    },
    {
      "cell_type": "markdown",
      "source": [
        "**Penjelasan:**\n",
        "\n",
        "Import library yang dibutuhkan:\n",
        "*   numpy untuk operasi numerik dan pembuatan dataset,\n",
        "*   tensorflow dan keras untuk membuat dan melatih neural network,\n",
        "*   matplotlib untuk menampilkan grafik loss saat training.\n",
        "\n",
        "\n",
        "\n"
      ],
      "metadata": {
        "id": "JDCKDeKUDoAl"
      }
    },
    {
      "cell_type": "markdown",
      "source": [
        "**2.Membuat Dataset Suhu Celsius ke Fahrenheit**"
      ],
      "metadata": {
        "id": "ALkqLTd-EAKW"
      }
    },
    {
      "cell_type": "code",
      "source": [
        "celsius = np.linspace(-200, 200, 401, dtype=float)\n",
        "fahrenheit = celsius * 1.8 + 32"
      ],
      "metadata": {
        "id": "IjShHiz1D-d-"
      },
      "execution_count": 22,
      "outputs": []
    },
    {
      "cell_type": "markdown",
      "source": [
        "**Penjelasan:**\n",
        "\n",
        "Membuat dataset berupa 401 titik suhu Celsius dari -200 sampai 200.\n",
        "\n",
        "Kemudian mengonversi suhu Celsius ke Fahrenheit menggunakan rumus fisika **F = 1.8 × C + 32**.\n",
        "\n",
        "Dataset ini akan digunakan untuk melatih neural network."
      ],
      "metadata": {
        "id": "X1uDELFWELIc"
      }
    },
    {
      "cell_type": "markdown",
      "source": [
        "**3.Membuat Model Neural Network Sederhana**"
      ],
      "metadata": {
        "id": "S_aGH-jfFFW3"
      }
    },
    {
      "cell_type": "code",
      "source": [
        "model = keras.Sequential([\n",
        "    keras.Input(shape=(1,)),\n",
        "    keras.layers.Dense(units=1)\n",
        "])\n"
      ],
      "metadata": {
        "id": "MpmG4vloFLBg"
      },
      "execution_count": 23,
      "outputs": []
    },
    {
      "cell_type": "markdown",
      "source": [
        "**Penjelasan:**\n",
        "\n",
        "Model NN sangat sederhana:\n",
        "\n",
        "*   Input satu fitur (suhu Celsius),\n",
        "*   Output satu neuron (prediksi suhu Fahrenheit).\n",
        "\n",
        "Model ini mirip regresi linear, belajar mencari bobot dan bias yang tepat.\n",
        "\n"
      ],
      "metadata": {
        "id": "lsi47PdGFLyf"
      }
    },
    {
      "cell_type": "markdown",
      "source": [
        "**4.Kompilasi Model**"
      ],
      "metadata": {
        "id": "Lu78Yr7ZFaaZ"
      }
    },
    {
      "cell_type": "code",
      "source": [
        "model.compile(optimizer=keras.optimizers.Adam(learning_rate=0.001),\n",
        "              loss='mean_squared_error')\n"
      ],
      "metadata": {
        "id": "udeGd8BGFcdP"
      },
      "execution_count": 24,
      "outputs": []
    },
    {
      "cell_type": "markdown",
      "source": [
        "**Penjelasan:**\n",
        "\n",
        "Model dikompilasi dengan optimizer Adam (learning rate 0.001) dan fungsi loss MSE (Mean Squared Error) yang cocok untuk masalah regresi."
      ],
      "metadata": {
        "id": "KyYVlL6_Fe_Q"
      }
    },
    {
      "cell_type": "markdown",
      "source": [
        "**5.Membuat Callback untuk Print Status Training Setiap 500 Epoch**"
      ],
      "metadata": {
        "id": "BJP4wxR_Fkch"
      }
    },
    {
      "cell_type": "code",
      "source": [
        "class PrintEveryN(tf.keras.callbacks.Callback):\n",
        "    def __init__(self, n):\n",
        "        super().__init__()\n",
        "        self.n = n\n",
        "\n",
        "    def on_epoch_end(self, epoch, logs=None):\n",
        "        if (epoch + 1) % self.n == 0 or (epoch + 1) == self.params['epochs']:\n",
        "            loss = logs['loss']\n",
        "            print(f\"Epoch {epoch + 1}/{self.params['epochs']} - loss: {loss:.4f}\")\n"
      ],
      "metadata": {
        "id": "229eTVyvFnpw"
      },
      "execution_count": 25,
      "outputs": []
    },
    {
      "cell_type": "markdown",
      "source": [
        "**Penjelasan:**\n",
        "\n",
        "Callback ini akan mencetak loss training setiap 500 epoch.\n",
        "Jadi kita bisa memantau proses training tanpa harus menampilkan output tiap epoch."
      ],
      "metadata": {
        "id": "tbTc9GROFpeQ"
      }
    },
    {
      "cell_type": "markdown",
      "source": [
        "**6.Melatih Model (Training)**"
      ],
      "metadata": {
        "id": "vqpaWhymFxHn"
      }
    },
    {
      "cell_type": "code",
      "source": [
        "print(\"Training...\")\n",
        "history = model.fit(celsius, fahrenheit,\n",
        "                    epochs=6,\n",
        "                    batch_size=4,\n",
        "                    verbose=0,\n",
        "                    callbacks=[PrintEveryN(500)])\n"
      ],
      "metadata": {
        "colab": {
          "base_uri": "https://localhost:8080/"
        },
        "id": "C40zENNJF1A4",
        "outputId": "0dfac83c-2d3c-4f42-a651-9443dfef23db"
      },
      "execution_count": 26,
      "outputs": [
        {
          "output_type": "stream",
          "name": "stdout",
          "text": [
            "Training...\n",
            "Epoch 500/4000 - loss: 667.0524\n",
            "Epoch 1000/4000 - loss: 384.2346\n",
            "Epoch 1500/4000 - loss: 181.2429\n",
            "Epoch 2000/4000 - loss: 56.5120\n",
            "Epoch 2500/4000 - loss: 4.5811\n",
            "Epoch 3000/4000 - loss: 0.0000\n",
            "Epoch 3500/4000 - loss: 0.0000\n",
            "Epoch 4000/4000 - loss: 0.0000\n"
          ]
        }
      ]
    },
    {
      "cell_type": "markdown",
      "source": [
        "**Penjelasan:**\n",
        "\n",
        "Melatih model selama 5000 epoch dengan dataset yang sudah dibuat.\n",
        "\n",
        "Output loss training hanya muncul setiap 500 epoch berkat callback."
      ],
      "metadata": {
        "id": "Vd43po2DF3WA"
      }
    },
    {
      "cell_type": "markdown",
      "source": [
        "**7.Menyimpan Model dalam Format .keras**"
      ],
      "metadata": {
        "id": "beicmEG9F8xp"
      }
    },
    {
      "cell_type": "code",
      "source": [
        "model.save('model_suhu.keras')\n",
        "print(\"\\n✅ Model telah disimpan sebagai 'model_suhu.keras' (format Keras terbaru)\")\n"
      ],
      "metadata": {
        "colab": {
          "base_uri": "https://localhost:8080/"
        },
        "id": "iYB6uV32F_nv",
        "outputId": "0a63dba7-3f39-48b0-c5ba-f8f457cb033a"
      },
      "execution_count": 27,
      "outputs": [
        {
          "output_type": "stream",
          "name": "stdout",
          "text": [
            "\n",
            "✅ Model telah disimpan sebagai 'model_suhu.keras' (format Keras terbaru)\n"
          ]
        }
      ]
    },
    {
      "cell_type": "markdown",
      "source": [
        "**Penjelasan:**\n",
        "\n",
        "Model yang sudah terlatih disimpan dalam file model_suhu.keras agar bisa dipakai ulang tanpa harus melatih ulang dari awal."
      ],
      "metadata": {
        "id": "LX5olQcYGCGZ"
      }
    },
    {
      "cell_type": "markdown",
      "source": [
        "**8.Menggunakan Model untuk Prediksi**"
      ],
      "metadata": {
        "id": "HlgQ_oI4GG0T"
      }
    },
    {
      "cell_type": "code",
      "source": [
        "print(\"\\nPrediksi suhu:\")\n",
        "test_data = np.array([100, 37, -20, 0, -40], dtype=float)\n",
        "predictions = model.predict(test_data)\n",
        "\n",
        "for i, c in enumerate(test_data):\n",
        "    print(f\"{c}°C -> {predictions[i][0]:.2f}°F\")\n"
      ],
      "metadata": {
        "colab": {
          "base_uri": "https://localhost:8080/"
        },
        "id": "lyCzJqjVGJnZ",
        "outputId": "a647644c-47a6-4b24-8adc-b2dd6903e39e"
      },
      "execution_count": 28,
      "outputs": [
        {
          "output_type": "stream",
          "name": "stdout",
          "text": [
            "\n",
            "Prediksi suhu:\n",
            "\u001b[1m1/1\u001b[0m \u001b[32m━━━━━━━━━━━━━━━━━━━━\u001b[0m\u001b[37m\u001b[0m \u001b[1m0s\u001b[0m 126ms/step\n",
            "100.0°C -> 212.00°F\n",
            "37.0°C -> 98.60°F\n",
            "-20.0°C -> -4.00°F\n",
            "0.0°C -> 32.00°F\n",
            "-40.0°C -> -40.00°F\n"
          ]
        }
      ]
    },
    {
      "cell_type": "markdown",
      "source": [
        "**Penjelasan:**\n",
        "\n",
        "Menguji model dengan beberapa suhu Celsius baru, kemudian menampilkan prediksi suhu Fahrenheit."
      ],
      "metadata": {
        "id": "w-ZVDrhMGNjQ"
      }
    },
    {
      "cell_type": "markdown",
      "source": [
        "**9.Menampilkan Bobot dan Bias Model**"
      ],
      "metadata": {
        "id": "w-hEiYbTGR4h"
      }
    },
    {
      "cell_type": "code",
      "source": [
        "weights = model.get_weights()\n",
        "print(\"\\nBobot model (weight, bias):\", weights)"
      ],
      "metadata": {
        "colab": {
          "base_uri": "https://localhost:8080/"
        },
        "id": "Z7z5nuyGGVfJ",
        "outputId": "953f3994-ab08-479e-f8d5-e5f799ce92d8"
      },
      "execution_count": 29,
      "outputs": [
        {
          "output_type": "stream",
          "name": "stdout",
          "text": [
            "\n",
            "Bobot model (weight, bias): [array([[1.8000075]], dtype=float32), array([32.000122], dtype=float32)]\n"
          ]
        }
      ]
    },
    {
      "cell_type": "markdown",
      "source": [
        "**Penjelasan:**\n",
        "\n",
        "Menampilkan nilai bobot (weight) dan bias yang didapat model setelah training.\n",
        "\n",
        "Idealnya bobot mendekati 1.8 dan bias mendekati 32 (rumus asli konversi suhu)."
      ],
      "metadata": {
        "id": "yueXCK2fGX6w"
      }
    },
    {
      "cell_type": "markdown",
      "source": [
        "**10.Plot Grafik Loss Training**"
      ],
      "metadata": {
        "id": "JMgUy25SGdF_"
      }
    },
    {
      "cell_type": "code",
      "source": [
        "plt.plot(history.history['loss'])\n",
        "plt.title(\"Training Loss\")\n",
        "plt.xlabel(\"Epoch\")\n",
        "plt.ylabel(\"Loss (MSE)\")\n",
        "plt.grid(True)\n",
        "plt.show()\n"
      ],
      "metadata": {
        "colab": {
          "base_uri": "https://localhost:8080/",
          "height": 472
        },
        "id": "bwdvfvoLGhgh",
        "outputId": "41050897-0c8b-4bde-e1d3-de8654203198"
      },
      "execution_count": 30,
      "outputs": [
        {
          "output_type": "display_data",
          "data": {
            "text/plain": [
              "<Figure size 640x480 with 1 Axes>"
            ],
            "image/png": "[encoded data removed]"
          },
          "metadata": {}
        }
      ]
    },
    {
      "cell_type": "markdown",
      "source": [
        "**Penjelasan:**\n",
        "\n",
        "Menampilkan grafik penurunan loss selama training untuk memastikan model belajar dengan baik dan loss semakin kecil."
      ],
      "metadata": {
        "id": "l9AOvnD3GkfI"
      }
    },
    {
      "cell_type": "markdown",
      "source": [
        "# Alat Konversi Suhu Sederhana dengan Python & Neural Network\n",
        "\n",
        "---\n",
        "\n",
        "## Penjelasan Singkat\n",
        "\n",
        "Alat ini adalah program Python sederhana yang menggunakan model Neural Network yang sudah dilatih untuk mengkonversi suhu dari Celsius ke Fahrenheit.\n",
        "\n",
        "---\n",
        "\n",
        "## Cara Kerja\n",
        "\n",
        "1. **Load Model yang Sudah Dilatih**  \n",
        "   Model neural network yang telah dilatih dan disimpan (dengan bobot dan bias terbaik) akan dimuat ke dalam program.\n",
        "\n",
        "2. **User Input Manual**  \n",
        "   Pengguna bisa memasukkan nilai suhu dalam Celsius secara manual.\n",
        "\n",
        "3. **Prediksi dengan Model**  \n",
        "   Model akan mengubah input suhu Celsius menjadi suhu Fahrenheit berdasarkan pembelajaran yang sudah didapat saat training.\n",
        "\n",
        "---\n",
        "\n",
        "## Fitur Utama\n",
        "\n",
        "- Menggunakan model neural network yang ringan dan cepat.\n",
        "- Memungkinkan pengguna melakukan konversi suhu secara manual tanpa perlu melakukan training ulang.\n",
        "- Akurasi tinggi karena model sudah dilatih dengan dataset luas dan mendekati rumus asli \\(F = 1.8 \\times C + 32\\).\n",
        "\n",
        "---\n",
        "\n",
        "## Kesimpulan\n",
        "\n",
        "Alat ini memudahkan konversi suhu dengan teknologi machine learning yang dibungkus secara sederhana sehingga pengguna yang awam sekalipun bisa menggunakannya langsung.\n"
      ],
      "metadata": {
        "id": "Ozgw36AeG9lL"
      }
    },
    {
      "cell_type": "code",
      "source": [
        "import numpy as np\n",
        "from tensorflow.keras.models import load_model\n",
        "\n",
        "model = load_model('model_suhu.keras')\n",
        "print(\"✅ Model berhasil dimuat dari 'model_suhu.keras'\")\n",
        "\n",
        "user_input = input(\"Masukkan suhu dalam Celsius (pisahkan dengan koma, contoh: 100,37,-20): \")\n",
        "\n",
        "try:\n",
        "    celsius_input = np.array([float(x.strip()) for x in user_input.split(',')])\n",
        "except ValueError:\n",
        "    print(\"❌ Input tidak valid. Pastikan hanya memasukkan angka yang dipisahkan koma.\")\n",
        "    exit()\n",
        "\n",
        "predictions = model.predict(celsius_input)\n",
        "\n",
        "print(\"\\nPrediksi suhu:\")\n",
        "for c, f in zip(celsius_input, predictions):\n",
        "    print(f\"{c}°C -> {f[0]:.2f}°F\")\n"
      ],
      "metadata": {
        "colab": {
          "base_uri": "https://localhost:8080/"
        },
        "id": "ynuFNBaOBPsR",
        "outputId": "88e39ad9-9984-417e-d778-14fd37475d83"
      },
      "execution_count": 31,
      "outputs": [
        {
          "output_type": "stream",
          "name": "stdout",
          "text": [
            "✅ Model berhasil dimuat dari 'model_suhu.keras'\n",
            "Masukkan suhu dalam Celsius (pisahkan dengan koma, contoh: 100,37,-20): 100\n",
            "\u001b[1m1/1\u001b[0m \u001b[32m━━━━━━━━━━━━━━━━━━━━\u001b[0m\u001b[37m\u001b[0m \u001b[1m0s\u001b[0m 131ms/step\n",
            "\n",
            "Prediksi suhu:\n",
            "100.0°C -> 212.00°F\n"
          ]
        }
      ]
    },
    {
      "cell_type": "markdown",
      "source": [
        "## Tambahan: Penjelasan Konsep Dasar Neural Network ©3xSiberID\n",
        "\n",
        "### Apa itu Neuron dalam Neural Network?\n",
        "\n",
        "Neuron adalah unit dasar dalam jaringan saraf buatan (neural network). Setiap neuron menerima input (dalam kasus ini, suhu Celsius), mengalikan dengan bobot (weight), menambahkan bias, lalu menghasilkan output (prediksi suhu Fahrenheit). Dalam model sederhana ini, hanya ada satu neuron.\n",
        "\n",
        "---\n",
        "\n",
        "### Apa itu Weight (Bobot)?\n",
        "\n",
        "Bobot adalah angka yang menentukan seberapa besar pengaruh sebuah input terhadap output. Dalam kasus konversi suhu, bobot idealnya sekitar 1.8 karena rumus:  \n",
        "\\[\n",
        "F = 1.8 \\times C + 32\n",
        "\\]\n",
        "\n",
        "---\n",
        "\n",
        "### Apa itu Bias?\n",
        "\n",
        "Bias adalah nilai tambahan yang ditambahkan ke hasil perkalian input dan bobot sebelum akhirnya dikeluarkan sebagai output. Bias berfungsi menggeser fungsi output sehingga model bisa memprediksi dengan tepat. Dalam konversi suhu, bias idealnya 32.\n",
        "\n",
        "---\n",
        "\n",
        "### Fungsi Loss (Kerugian) dan Kenapa Harus Diminimalkan?\n",
        "\n",
        "Loss mengukur seberapa jauh prediksi model dari nilai sebenarnya. Di sini menggunakan *Mean Squared Error* (MSE) yang menghitung rata-rata kuadrat selisih antara prediksi dan nilai asli. Tujuan training adalah meminimalkan loss agar model makin akurat.\n",
        "\n",
        "---\n",
        "\n",
        "### Apa itu Epoch?\n",
        "\n",
        "Epoch adalah satu kali iterasi lengkap dari seluruh dataset selama proses training. Misalnya, kalau kamu punya 401 data suhu, 1 epoch berarti model sudah “melihat” dan belajar dari semua data tersebut sekali.\n",
        "\n",
        "---\n",
        "\n",
        "### Apa itu Optimizer?\n",
        "\n",
        "Optimizer adalah algoritma yang mengatur bagaimana bobot dan bias diupdate selama training untuk meminimalkan loss. Di sini kita pakai **Adam**, optimizer yang populer dan efektif, yang menggabungkan ide dari beberapa optimizer lain.\n",
        "\n",
        "---\n",
        "\n",
        "### Kenapa Model Ini Bisa Belajar?\n",
        "\n",
        "Model belajar dengan mengubah bobot dan bias secara bertahap (berdasarkan loss) agar prediksi semakin mendekati nilai asli (rumus fisika suhu). Jadi walaupun kita tidak memberitahu langsung bobot = 1.8 dan bias = 32, model “menemukan” nilai tersebut lewat proses training.\n"
      ],
      "metadata": {
        "id": "r3OOjXgdHy6T"
      }
    }
  ]
}
